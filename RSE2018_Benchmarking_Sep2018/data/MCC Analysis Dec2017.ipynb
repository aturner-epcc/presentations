{
 "cells": [
  {
   "cell_type": "code",
   "execution_count": 1,
   "metadata": {
    "collapsed": false
   },
   "outputs": [],
   "source": [
    "import numpy as np\n",
    "import matplotlib\n",
    "matplotlib.rcParams['font.size'] = 9\n",
    "matplotlib.rcParams.update({'figure.autolayout': True})\n",
    "matplotlib.use(\"Agg\")\n",
    "from matplotlib import pyplot as plt\n",
    "from matplotlib import cm"
   ]
  },
  {
   "cell_type": "code",
   "execution_count": 2,
   "metadata": {
    "collapsed": true
   },
   "outputs": [],
   "source": [
    "nodesizes = [\"1\", \"2\", \"3-4\", \"5-8\", \"9-16\", \"17-32\", \"33-64\", \"65-128\", \"129-256\", \"257-512\", \"513-1024\", \"1025-2048\", \"2049-4096\", \"4097-8192\"]\n",
    "nodelabels = [\"[1,1]\", \"[2,2]\", \"(2,4]\", \"(4,8]\", \"(8,16]\", \"(16,32]\", \"(32,64]\", \"(64,128]\", \"(128,256]\", \"(256,512]\", \"(512,1024]\", \"(1024,2048]\", \"(2048,4096]\", \"(4096,4290]\"]\n",
    "membins = [12.0, 24.0, 48.0, 96.0, 129.0]\n",
    "memlabels = ['[0,12)','[12,24)','[24,48)','[48,96)','[96,128]']"
   ]
  },
  {
   "cell_type": "code",
   "execution_count": 3,
   "metadata": {
    "collapsed": true
   },
   "outputs": [],
   "source": [
    "def readSAFECSV(filename, membins, nodesizes):\n",
    "    nsizes = len(nodesizes)\n",
    "    nbins = len(membins)\n",
    "    jobs = [[0 for i in range(nsizes)] for j in range(nbins)]\n",
    "    use = [[0.0 for i in range(nsizes)] for j in range(nbins)]\n",
    "    largejobs = 0\n",
    "    largeuse = 0.0\n",
    "    csvfile = open(filename, 'r')\n",
    "    for line in csvfile:\n",
    "        dataline = line.rstrip()\n",
    "        tokens = dataline.split(\",\")\n",
    "        inodes = nodesizes.index(tokens[0])\n",
    "        imem = 0\n",
    "        for mem in membins:\n",
    "            if int(tokens[1]) < mem: break\n",
    "            imem = imem + 1\n",
    "\n",
    "        if imem >= nbins:\n",
    "            largejobs += int(tokens[2])\n",
    "            largeuse += float(tokens[3])\n",
    "        else:\n",
    "            jobs[imem][inodes] += int(tokens[2])\n",
    "            use[imem][inodes] += float(tokens[3])\n",
    "\n",
    "    csvfile.close()\n",
    "    print largejobs, largeuse\n",
    "    return jobs, use"
   ]
  },
  {
   "cell_type": "code",
   "execution_count": 4,
   "metadata": {
    "collapsed": true
   },
   "outputs": [],
   "source": [
    "def writeUsageHeatmap(imgfile, use, membins, nodesizes):\n",
    "    nsizes = len(nodesizes)\n",
    "    nbins = len(membins)\n",
    "    xuse = np.array(use)\n",
    "    totxuse = np.sum(xuse)\n",
    "    fig, ax1 = plt.subplots()\n",
    "    masked_array = np.ma.masked_where(xuse<0.0001, xuse)\n",
    "    maxu = masked_array.max()\n",
    "    cmap = cm.binary\n",
    "    cmap.set_bad('w', 1.0)\n",
    "    cax1 = ax1.imshow(masked_array, interpolation='nearest', cmap=cmap)\n",
    "    plt.xticks(np.arange(nsizes), nodelabels, rotation='45')\n",
    "    ax1.set_yticks(np.arange(nbins))\n",
    "    ax1.set_yticklabels(memlabels)\n",
    "    ax1.set_xlabel(\"Job size (nodes)\")\n",
    "    ax1.set_ylabel(\"Max. memory use (GiB/node)\")\n",
    "    for i in range(nbins):\n",
    "        for j in range(nsizes):\n",
    "            val =  xuse[i,j]/totxuse\n",
    "            strval = \"{:.1f}%\".format(val*100)\n",
    "            if xuse[i,j] > 0:\n",
    "                if xuse[i,j]/maxu > 0.4:\n",
    "                   ax1.text(j, i, strval, horizontalalignment='center', verticalalignment='center', color='white')\n",
    "                else:\n",
    "                   ax1.text(j, i, strval, horizontalalignment='center', verticalalignment='center')\n",
    "            else:\n",
    "                ax1.text(j, i, '-', horizontalalignment='center', verticalalignment='center')\n",
    "    fig.savefig(imgfile, bbox_inches='tight', dpi=300)"
   ]
  },
  {
   "cell_type": "code",
   "execution_count": 5,
   "metadata": {
    "collapsed": false
   },
   "outputs": [
    {
     "name": "stdout",
     "output_type": "stream",
     "text": [
      "2432 6081.966\n"
     ]
    },
    {
     "name": "stderr",
     "output_type": "stream",
     "text": [
      "/Users/aturner/anaconda/lib/python2.7/site-packages/matplotlib/figure.py:1744: UserWarning: This figure includes Axes that are not compatible with tight_layout, so its results might be incorrect.\n",
      "  warnings.warn(\"This figure includes Axes that are not \"\n"
     ]
    }
   ],
   "source": [
    "jobs, use = readSAFECSV('mem_use.csv', membins, nodesizes)\n",
    "writeUsageHeatmap('mem_use.png', use, membins, nodesizes)"
   ]
  },
  {
   "cell_type": "code",
   "execution_count": 6,
   "metadata": {
    "collapsed": false
   },
   "outputs": [
    {
     "data": {
      "text/plain": [
       "[0.035278797878636858,\n",
       " 0.018099608846912051,\n",
       " 0.054227263937791537,\n",
       " 0.16083745713696448,\n",
       " 0.22887947676062204,\n",
       " 0.25907936418705962,\n",
       " 0.11189661712449384,\n",
       " 0.081510254894621631,\n",
       " 0.032905127732574403,\n",
       " 0.01296753224015091,\n",
       " 0.0043184992601728008,\n",
       " 0.0,\n",
       " 0.0,\n",
       " 0.0]"
      ]
     },
     "execution_count": 6,
     "metadata": {},
     "output_type": "execute_result"
    }
   ],
   "source": [
    "tot = np.sum(use)\n",
    "[x/tot for x in np.sum(use,axis=0)]"
   ]
  },
  {
   "cell_type": "code",
   "execution_count": 7,
   "metadata": {
    "collapsed": false
   },
   "outputs": [
    {
     "data": {
      "text/plain": [
       "[0.65902039156624048,\n",
       " 0.20258586159314118,\n",
       " 0.10028248214079806,\n",
       " 0.035424584846822448,\n",
       " 0.0026866798529980008]"
      ]
     },
     "execution_count": 7,
     "metadata": {},
     "output_type": "execute_result"
    }
   ],
   "source": [
    "[x/tot for x in np.sum(use,axis=1)]"
   ]
  },
  {
   "cell_type": "code",
   "execution_count": 8,
   "metadata": {
    "collapsed": false
   },
   "outputs": [
    {
     "name": "stdout",
     "output_type": "stream",
     "text": [
      "['VASP', 'CP2K', 'CRYSTAL', 'ChemShell', 'CASTEP', 'AIMS', 'LAMMPS', 'NWChem', 'Unknown', 'GROMACS', 'Quantum Espresso', 'Python', 'NAMD', 'DL_POLY', 'CPMD', 'PIMAIM', 'GAMESS', 'SIESTA', 'ABINIT', 'ELK', 'AMBER']\n",
      "['53.9', '16.8', '5', '4.8', '4.4', '3.5', '2.5', '2.2', '1.8', '1.3', '1.2', '0.6', '0.5', '0.5', '0.4', '0.3', '0.2', '0', '0', '0', '0']\n"
     ]
    }
   ],
   "source": [
    "appname = []\n",
    "appuse = []\n",
    "appfile = open('app_use.csv', 'r')\n",
    "for line in appfile:\n",
    "    line = line.rstrip()\n",
    "    tokens = line.split(',')\n",
    "    appname.append(tokens[0])\n",
    "    appuse.append(tokens[4])\n",
    "    \n",
    "print appname\n",
    "print appuse"
   ]
  },
  {
   "cell_type": "code",
   "execution_count": 9,
   "metadata": {
    "collapsed": false
   },
   "outputs": [],
   "source": [
    "import seaborn as sns\n",
    "sns.set_style(\"white\", {\"font.family\": \"serif\"})\n",
    "sns.set_context(\"paper\")\n",
    "y_pos = np.arange(len(appname))\n",
    "fig,ax = plt.subplots()\n",
    "plt.barh(y_pos, appuse[::-1],align='center')\n",
    "ax.set_yticks(y_pos)\n",
    "ax.set_yticklabels(appname[::-1])\n",
    "plt.ylim((0,len(appname)))\n",
    "plt.xlabel(\"% Use\")\n",
    "sns.despine()\n",
    "plt.savefig('app_use.png', bbox_inches='tight', dpi=300)"
   ]
  },
  {
   "cell_type": "code",
   "execution_count": null,
   "metadata": {
    "collapsed": true
   },
   "outputs": [],
   "source": []
  },
  {
   "cell_type": "code",
   "execution_count": null,
   "metadata": {
    "collapsed": true
   },
   "outputs": [],
   "source": []
  }
 ],
 "metadata": {
  "kernelspec": {
   "display_name": "Python 2",
   "language": "python",
   "name": "python2"
  },
  "language_info": {
   "codemirror_mode": {
    "name": "ipython",
    "version": 2
   },
   "file_extension": ".py",
   "mimetype": "text/x-python",
   "name": "python",
   "nbconvert_exporter": "python",
   "pygments_lexer": "ipython2",
   "version": "2.7.12"
  }
 },
 "nbformat": 4,
 "nbformat_minor": 2
}
